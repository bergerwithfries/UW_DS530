{
 "cells": [
  {
   "cell_type": "code",
   "execution_count": 15,
   "id": "1bf4c67b-bbad-4556-9091-2a977934cd2f",
   "metadata": {},
   "outputs": [],
   "source": [
    "from statsmodels.tsa.arima_process import ArmaProcess\n",
    "from statsmodels.graphics.tsaplots import plot_pacf, plot_acf\n",
    "\n",
    "import numpy as np\n",
    "\n",
    "%matplotlib inline\n",
    "import matplotlib.pyplot as plt\n",
    "\n",
    "np.random.seed(42)"
   ]
  },
  {
   "cell_type": "code",
   "execution_count": 16,
   "id": "07523e42-ac04-4a28-8de8-40267a50ffda",
   "metadata": {},
   "outputs": [
    {
     "ename": "NameError",
     "evalue": "name 'AR2_process' is not defined",
     "output_type": "error",
     "traceback": [
      "\u001b[1;31m---------------------------------------------------------------------------\u001b[0m",
      "\u001b[1;31mNameError\u001b[0m                                 Traceback (most recent call last)",
      "Cell \u001b[1;32mIn[16], line 15\u001b[0m\n\u001b[0;32m      7\u001b[0m ar2_ex_ar_coefficients \u001b[38;5;241m=\u001b[39m np\u001b[38;5;241m.\u001b[39marray(\n\u001b[0;32m      8\u001b[0m     [\u001b[38;5;241m1\u001b[39m, \u001b[38;5;241m-\u001b[39m\u001b[38;5;241m0.33\u001b[39m, \u001b[38;5;241m-\u001b[39m\u001b[38;5;241m0.5\u001b[39m]\n\u001b[0;32m      9\u001b[0m )\n\u001b[0;32m     11\u001b[0m ar2_ex_ma_coefficients \u001b[38;5;241m=\u001b[39m np\u001b[38;5;241m.\u001b[39marray(\n\u001b[0;32m     12\u001b[0m     [\u001b[38;5;241m1\u001b[39m, \u001b[38;5;241m0\u001b[39m, \u001b[38;5;241m0\u001b[39m]\n\u001b[0;32m     13\u001b[0m )\n\u001b[1;32m---> 15\u001b[0m AR2_process(ArmaProcess(ar2_ex_ar_coefficients,\n\u001b[0;32m     16\u001b[0m                         ar2_ex_ma_coefficients)\u001b[38;5;241m.\u001b[39mgenerate_sample(nsample \u001b[38;5;241m=\u001b[39m \u001b[38;5;241m1000\u001b[39m))\n",
      "\u001b[1;31mNameError\u001b[0m: name 'AR2_process' is not defined"
     ]
    }
   ],
   "source": [
    "# Create an ar(2) process\n",
    "\n",
    "#X_t = 0.33 * X_t-1 + 0.5 * X_t-2\n",
    "\n",
    "#X_t - 0.33 * X_t-1 - 0.5 * X_t-2 = 0\n",
    "\n",
    "ar2_ex_ar_coefficients = np.array(\n",
    "    [1, -0.33, -0.5]\n",
    ")\n",
    "\n",
    "ar2_ex_ma_coefficients = np.array(\n",
    "    [1, 0, 0]\n",
    ")\n",
    "\n",
    "AR2_process(ArmaProcess(ar2_ex_ar_coefficients,\n",
    "                        ar2_ex_ma_coefficients).generate_sample(nsample = 1000))"
   ]
  },
  {
   "cell_type": "code",
   "execution_count": null,
   "id": "f457c105-8604-4630-b97c-a7fa5fe9d479",
   "metadata": {},
   "outputs": [],
   "source": [
    "#Helper function to plot TS along with its PACF and ACF\n",
    "def plot_ts_pacf_acf(ts, title=\"TITLE GOES HERE\", xlabel = \"Time\"): \n",
    "    global fig, axs\n",
    "    fig, axs = plt.subplots(3, 1, figsize=(15,12))\n",
    "    fig.tight_layout(pad = 3.0)\n",
    "    axs[0].set_xlabel(xlabel)\n",
    "    axs[0].set_title(title)\n",
    "    axs[0].plot(ts)\n",
    "    plot_acf(ts, lags=20, ax=axs[1]);\n",
    "    plot_pacf(ts, lags=20, ax=axs[2])"
   ]
  },
  {
   "cell_type": "code",
   "execution_count": null,
   "id": "fd60c677-73ee-4166-bee2-1d72d21c50a4",
   "metadata": {},
   "outputs": [],
   "source": [
    "plot_ts_pacf_acf(AR2_process,\"PIDOOMA'ed AR(2) Process\")"
   ]
  },
  {
   "cell_type": "code",
   "execution_count": null,
   "id": "82c52771-81d4-474d-be4a-f7e2e91c23d7",
   "metadata": {},
   "outputs": [],
   "source": [
    "#Create an MA(2) process\n",
    "\n",
    "ma2_ex_ar_coefficients = np.array([1]) #AR part...no AR\n",
    "\n",
    "ma2_ex_ma_coefficients = np.array([1, -0.4, -0.7]) #mA(2) part\n",
    "\n",
    "MA2_process = (ArmaProcess(ma2_ex_ar_coefficients, ma2_ex_ma_coefficients).generate_sample(nsample=1000)\n",
    "               "
   ]
  },
  {
   "cell_type": "code",
   "execution_count": null,
   "id": "d952b6cb-43c5-47bf-bc37-40fc15d6e9c9",
   "metadata": {},
   "outputs": [],
   "source": [
    "plot_ts_pacf_acf(MA2_process,\"MA(2) Process via PIDOOMA\")"
   ]
  },
  {
   "cell_type": "code",
   "execution_count": null,
   "id": "e1e2c207-502f-42b0-830d-29e577e0a343",
   "metadata": {},
   "outputs": [],
   "source": [
    "#ARMA(2,2)\n",
    "\n",
    "ARMA_2_2_process = (ArmaProcess(ar2_ex_ar_coefficients,ma2_ex_ma_coefficients).generate_sample(nsample=1000))"
   ]
  },
  {
   "cell_type": "code",
   "execution_count": null,
   "id": "4a4459ae-edb3-49e9-946c-5094f1c3e20a",
   "metadata": {},
   "outputs": [],
   "source": [
    "plot_ts_pacf_acf(ARMA_2_2_process,\"ARMA (2,2) Process\")"
   ]
  },
  {
   "cell_type": "code",
   "execution_count": 5,
   "id": "b146b14a-fc3f-42bd-9506-e5405249c8c3",
   "metadata": {},
   "outputs": [
    {
     "ename": "NameError",
     "evalue": "name 'ARMA_2_2_process' is not defined",
     "output_type": "error",
     "traceback": [
      "\u001b[1;31m---------------------------------------------------------------------------\u001b[0m",
      "\u001b[1;31mNameError\u001b[0m                                 Traceback (most recent call last)",
      "Cell \u001b[1;32mIn[5], line 6\u001b[0m\n\u001b[0;32m      1\u001b[0m \u001b[38;5;66;03m#Stationarity\u001b[39;00m\n\u001b[0;32m      2\u001b[0m \n\u001b[0;32m      3\u001b[0m \u001b[38;5;66;03m#particular test for time series\u001b[39;00m\n\u001b[0;32m      4\u001b[0m \u001b[38;5;28;01mfrom\u001b[39;00m \u001b[38;5;21;01mstatsmodels\u001b[39;00m\u001b[38;5;21;01m.\u001b[39;00m\u001b[38;5;21;01mtsa\u001b[39;00m\u001b[38;5;21;01m.\u001b[39;00m\u001b[38;5;21;01mstattools\u001b[39;00m \u001b[38;5;28;01mimport\u001b[39;00m adfuller\n\u001b[1;32m----> 6\u001b[0m result \u001b[38;5;241m=\u001b[39m adfuller(ARMA_2_2_process)\n\u001b[0;32m      8\u001b[0m \u001b[38;5;28mprint\u001b[39m(result)\n\u001b[0;32m     10\u001b[0m \u001b[38;5;66;03m#null_hypothesis = not stationary, definition?\u001b[39;00m\n",
      "\u001b[1;31mNameError\u001b[0m: name 'ARMA_2_2_process' is not defined"
     ]
    }
   ],
   "source": [
    "#Stationarity\n",
    "\n",
    "#particular test for time series\n",
    "from statsmodels.tsa.stattools import adfuller\n",
    "\n",
    "result = adfuller(ARMA_2_2_process)\n",
    "\n",
    "print(result)\n",
    "\n",
    "#null_hypothesis = not stationary, definition?\n",
    "print(f'ADF statistic:{result[0]}') #ANS: -17.776 --> negative --> can reject null \n",
    "print(f'p-value: {result[1]}') #ANS: 3.291e-30 --> that's good"
   ]
  },
  {
   "cell_type": "code",
   "execution_count": 7,
   "id": "a836d121-f7d7-48a8-882e-06d9a6ba1645",
   "metadata": {},
   "outputs": [],
   "source": [
    " #An ARIMA(p, d, q) example\n",
    "\n",
    "import pandas as pd"
   ]
  },
  {
   "cell_type": "code",
   "execution_count": 11,
   "id": "149173f5-b10e-4b35-84a3-1639437eaf17",
   "metadata": {},
   "outputs": [
    {
     "data": {
      "text/html": [
       "<div>\n",
       "<style scoped>\n",
       "    .dataframe tbody tr th:only-of-type {\n",
       "        vertical-align: middle;\n",
       "    }\n",
       "\n",
       "    .dataframe tbody tr th {\n",
       "        vertical-align: top;\n",
       "    }\n",
       "\n",
       "    .dataframe thead th {\n",
       "        text-align: right;\n",
       "    }\n",
       "</style>\n",
       "<table border=\"1\" class=\"dataframe\">\n",
       "  <thead>\n",
       "    <tr style=\"text-align: right;\">\n",
       "      <th></th>\n",
       "      <th>date</th>\n",
       "      <th>data</th>\n",
       "    </tr>\n",
       "  </thead>\n",
       "  <tbody>\n",
       "    <tr>\n",
       "      <th>0</th>\n",
       "      <td>1960-01-01</td>\n",
       "      <td>0.71</td>\n",
       "    </tr>\n",
       "    <tr>\n",
       "      <th>1</th>\n",
       "      <td>1960-04-01</td>\n",
       "      <td>0.63</td>\n",
       "    </tr>\n",
       "    <tr>\n",
       "      <th>2</th>\n",
       "      <td>1960-07-02</td>\n",
       "      <td>0.85</td>\n",
       "    </tr>\n",
       "    <tr>\n",
       "      <th>3</th>\n",
       "      <td>1960-10-01</td>\n",
       "      <td>0.44</td>\n",
       "    </tr>\n",
       "    <tr>\n",
       "      <th>4</th>\n",
       "      <td>1961-01-01</td>\n",
       "      <td>0.61</td>\n",
       "    </tr>\n",
       "  </tbody>\n",
       "</table>\n",
       "</div>"
      ],
      "text/plain": [
       "         date  data\n",
       "0  1960-01-01  0.71\n",
       "1  1960-04-01  0.63\n",
       "2  1960-07-02  0.85\n",
       "3  1960-10-01  0.44\n",
       "4  1961-01-01  0.61"
      ]
     },
     "execution_count": 11,
     "metadata": {},
     "output_type": "execute_result"
    }
   ],
   "source": [
    "df = pd.read_csv('./data/jj.csv')\n",
    "df.head()"
   ]
  },
  {
   "cell_type": "code",
   "execution_count": null,
   "id": "b36bfd14-6824-4abc-853e-27e4bf0bf807",
   "metadata": {},
   "outputs": [],
   "source": [
    "fig, ax = plt.subplots(figsize=(15,10))\n",
    "\n",
    "ax.plot(df.data,df['data'])\n",
    "ax.set_xlabel('Date')\n",
    "ax.set_ylabel('Earnings per share (USD)')\n",
    "\n",
    "#quarterly earnings\n",
    "#every 2 years\n",
    "plt.xticks(np.arange(0, 81, 8), [1960, 1962, 1964, 1966, 1968, 1970, 1972, 1974, 1976, 1978, 1980] )\n",
    "\n",
    "fig.autofmt_xdate()\n",
    "plt.tight_layout()"
   ]
  },
  {
   "cell_type": "code",
   "execution_count": null,
   "id": "0aab4ba2-dbb6-4c22-bc22-be38251702d0",
   "metadata": {},
   "outputs": [],
   "source": [
    "def adf_analyze(data):\n",
    "    adf_results = adfuller(data)\n",
    "    print(f'ADF statistic:{adf_result[0]}') #ANS: -17.776 --> negative --> can reject null \n",
    "    print(f'p-value: {adf_result[1]}') #ANS: 3.291e-30 --> that's good"
   ]
  },
  {
   "cell_type": "code",
   "execution_count": null,
   "id": "96bf651a-8de7-4bbd-afcf-c25d58c1d392",
   "metadata": {},
   "outputs": [],
   "source": [
    "adf_analyze(df['data']) #2.742"
   ]
  },
  {
   "cell_type": "code",
   "execution_count": null,
   "id": "01bf56ca-b2fa-48a6-80c5-7a565a66d60f",
   "metadata": {},
   "outputs": [],
   "source": [
    "earnings_diff_1 = np.diff(df['data'],n = 1)\n",
    "\n",
    "adf_analyze(earnings_diff_1) #-0.407"
   ]
  },
  {
   "cell_type": "code",
   "execution_count": null,
   "id": "d9b51966-ca08-4e94-83f8-83f6eb8e963e",
   "metadata": {},
   "outputs": [],
   "source": [
    "earnings_diff_2 = np.diff(earnings_diff_1 ,n = 1)\n",
    "\n",
    "adf_analyze(earnings_diff_2) #-3.585"
   ]
  },
  {
   "cell_type": "code",
   "execution_count": 27,
   "id": "68dedbc8-f440-46fe-9adb-57b42c4e299c",
   "metadata": {},
   "outputs": [],
   "source": [
    "d = 2 #d from ARIMA(p, d, q)"
   ]
  },
  {
   "cell_type": "code",
   "execution_count": null,
   "id": "4d0bcc95-dad1-4f9c-a2f7-618a577c3211",
   "metadata": {},
   "outputs": [],
   "source": [
    "fig, ax = plt.subplots(figsize=(15,10))\n",
    "\n",
    "ax.plot(df.data,df['data'])\n",
    "ax.set_xlabel('Date')\n",
    "ax.set_ylabel('Earnings per share (USD)')\n",
    "\n",
    "ax.axvspan(80,83, color=\"gray\", alpha=0.3)\n",
    "\n",
    "#quarterly earnings\n",
    "#every 2 years\n",
    "plt.xticks(np.arange(0, 81, 8), [1960, 1962, 1964, 1966, 1968, 1970, 1972, 1974, 1976, 1978, 1980] )\n",
    "\n",
    "fig.autofmt_xdate()\n",
    "plt.tight_layout()"
   ]
  },
  {
   "cell_type": "code",
   "execution_count": 31,
   "id": "c9dbeee0-506d-4669-a7d1-ca5a82aa3c3b",
   "metadata": {},
   "outputs": [],
   "source": [
    "from tqdm.notebook import tqdm_notebook\n",
    "\n",
    "from statsmodels.tsa.statespace.sarimax import SARIMAX\n",
    "\n",
    "#Seasonal Autoregressive Integrated Moving Average with eXogenous regressors\n",
    "\n",
    "from typing import Union\n",
    "\n",
    "def optimize_ARIMA(endog: Union[pd.Series,list], #encodes the type so either in the union\n",
    "                   order_list: list,\n",
    "                   d: int) -> pd.DataFrame:  #value of d for differencing\n",
    "    results = []\n",
    "    for order in tqdm_notebook(order_list):\n",
    "        try: \n",
    "            p = order[0]\n",
    "            q = order[1]\n",
    "            model = SARIMAX(endog, \n",
    "                            order = (p, d, q), \n",
    "                            simple_differencing = False).fit(disp = False)\n",
    "        except: \n",
    "            continue\n",
    "\n",
    "        aic = model.aic\n",
    "        results.append( [order,aic])\n",
    "\n",
    "    result_df = pd.DataFrame(results)\n",
    "    result_df.columns['(p,q)', 'AIC']\n",
    "\n",
    "    result_df = result_df.sort_Values(by = 'AIC', ascending = True).reset_index(drop = True)\n",
    "\n",
    "    return result_df"
   ]
  },
  {
   "cell_type": "code",
   "execution_count": 15,
   "id": "769703a6-e531-4baf-a549-b5e277cde43c",
   "metadata": {},
   "outputs": [],
   "source": [
    "ps = range(0, 4, 1)\n",
    "qs = range(0, 4, 1)\n",
    "\n",
    "#we found d above by repeating the ADF test and differencing and differentiating "
   ]
  },
  {
   "cell_type": "code",
   "execution_count": 21,
   "id": "978380d6-6236-4d71-b1a7-af6cae05f815",
   "metadata": {},
   "outputs": [],
   "source": [
    "from itertools import product\n",
    "train = df['data'][:-4] #set aside last 4 quarters, train on rest\n",
    "order_list = product(ps, qs)"
   ]
  },
  {
   "cell_type": "code",
   "execution_count": 23,
   "id": "659339e0-8e32-4c19-9c2a-12fbe785bbae",
   "metadata": {},
   "outputs": [
    {
     "data": {
      "text/plain": [
       "[(0, 0),\n",
       " (0, 1),\n",
       " (0, 2),\n",
       " (0, 3),\n",
       " (1, 0),\n",
       " (1, 1),\n",
       " (1, 2),\n",
       " (1, 3),\n",
       " (2, 0),\n",
       " (2, 1),\n",
       " (2, 2),\n",
       " (2, 3),\n",
       " (3, 0),\n",
       " (3, 1),\n",
       " (3, 2),\n",
       " (3, 3)]"
      ]
     },
     "execution_count": 23,
     "metadata": {},
     "output_type": "execute_result"
    }
   ],
   "source": [
    "list(order_list)"
   ]
  },
  {
   "cell_type": "code",
   "execution_count": 33,
   "id": "f838cdab-a9a9-4701-aeeb-f08ecd4ab13b",
   "metadata": {},
   "outputs": [
    {
     "data": {
      "application/vnd.jupyter.widget-view+json": {
       "model_id": "af3c01239e734c0a83f642d6e8051633",
       "version_major": 2,
       "version_minor": 0
      },
      "text/plain": [
       "0it [00:00, ?it/s]"
      ]
     },
     "metadata": {},
     "output_type": "display_data"
    },
    {
     "ename": "IndexError",
     "evalue": "only integers, slices (`:`), ellipsis (`...`), numpy.newaxis (`None`) and integer or boolean arrays are valid indices",
     "output_type": "error",
     "traceback": [
      "\u001b[1;31m---------------------------------------------------------------------------\u001b[0m",
      "\u001b[1;31mIndexError\u001b[0m                                Traceback (most recent call last)",
      "Cell \u001b[1;32mIn[33], line 1\u001b[0m\n\u001b[1;32m----> 1\u001b[0m result_df \u001b[38;5;241m=\u001b[39m optimize_ARIMA(train, order_list, d)\n",
      "Cell \u001b[1;32mIn[31], line 27\u001b[0m, in \u001b[0;36moptimize_ARIMA\u001b[1;34m(endog, order_list, d)\u001b[0m\n\u001b[0;32m     24\u001b[0m     results\u001b[38;5;241m.\u001b[39mappend( [order,aic])\n\u001b[0;32m     26\u001b[0m result_df \u001b[38;5;241m=\u001b[39m pd\u001b[38;5;241m.\u001b[39mDataFrame(results)\n\u001b[1;32m---> 27\u001b[0m result_df\u001b[38;5;241m.\u001b[39mcolumns[\u001b[38;5;124m'\u001b[39m\u001b[38;5;124m(p,q)\u001b[39m\u001b[38;5;124m'\u001b[39m, \u001b[38;5;124m'\u001b[39m\u001b[38;5;124mAIC\u001b[39m\u001b[38;5;124m'\u001b[39m]\n\u001b[0;32m     29\u001b[0m result_df \u001b[38;5;241m=\u001b[39m result_df\u001b[38;5;241m.\u001b[39msort_Values(by \u001b[38;5;241m=\u001b[39m \u001b[38;5;124m'\u001b[39m\u001b[38;5;124mAIC\u001b[39m\u001b[38;5;124m'\u001b[39m, ascending \u001b[38;5;241m=\u001b[39m \u001b[38;5;28;01mTrue\u001b[39;00m)\u001b[38;5;241m.\u001b[39mreset_index(drop \u001b[38;5;241m=\u001b[39m \u001b[38;5;28;01mTrue\u001b[39;00m)\n\u001b[0;32m     31\u001b[0m \u001b[38;5;28;01mreturn\u001b[39;00m result_df\n",
      "File \u001b[1;32m~\\anaconda3\\Lib\\site-packages\\pandas\\core\\indexes\\range.py:1030\u001b[0m, in \u001b[0;36mRangeIndex.__getitem__\u001b[1;34m(self, key)\u001b[0m\n\u001b[0;32m   1023\u001b[0m \u001b[38;5;28;01melif\u001b[39;00m is_scalar(key):\n\u001b[0;32m   1024\u001b[0m     \u001b[38;5;28;01mraise\u001b[39;00m \u001b[38;5;167;01mIndexError\u001b[39;00m(\n\u001b[0;32m   1025\u001b[0m         \u001b[38;5;124m\"\u001b[39m\u001b[38;5;124monly integers, slices (`:`), \u001b[39m\u001b[38;5;124m\"\u001b[39m\n\u001b[0;32m   1026\u001b[0m         \u001b[38;5;124m\"\u001b[39m\u001b[38;5;124mellipsis (`...`), numpy.newaxis (`None`) \u001b[39m\u001b[38;5;124m\"\u001b[39m\n\u001b[0;32m   1027\u001b[0m         \u001b[38;5;124m\"\u001b[39m\u001b[38;5;124mand integer or boolean \u001b[39m\u001b[38;5;124m\"\u001b[39m\n\u001b[0;32m   1028\u001b[0m         \u001b[38;5;124m\"\u001b[39m\u001b[38;5;124marrays are valid indices\u001b[39m\u001b[38;5;124m\"\u001b[39m\n\u001b[0;32m   1029\u001b[0m     )\n\u001b[1;32m-> 1030\u001b[0m \u001b[38;5;28;01mreturn\u001b[39;00m \u001b[38;5;28msuper\u001b[39m()\u001b[38;5;241m.\u001b[39m\u001b[38;5;21m__getitem__\u001b[39m(key)\n",
      "File \u001b[1;32m~\\anaconda3\\Lib\\site-packages\\pandas\\core\\indexes\\base.py:5416\u001b[0m, in \u001b[0;36mIndex.__getitem__\u001b[1;34m(self, key)\u001b[0m\n\u001b[0;32m   5407\u001b[0m         \u001b[38;5;28;01mif\u001b[39;00m \u001b[38;5;28mlen\u001b[39m(key) \u001b[38;5;241m==\u001b[39m \u001b[38;5;241m0\u001b[39m \u001b[38;5;129;01mand\u001b[39;00m \u001b[38;5;28mlen\u001b[39m(key) \u001b[38;5;241m!=\u001b[39m \u001b[38;5;28mlen\u001b[39m(\u001b[38;5;28mself\u001b[39m):\n\u001b[0;32m   5408\u001b[0m             warnings\u001b[38;5;241m.\u001b[39mwarn(\n\u001b[0;32m   5409\u001b[0m                 \u001b[38;5;124m\"\u001b[39m\u001b[38;5;124mUsing a boolean indexer with length 0 on an Index with \u001b[39m\u001b[38;5;124m\"\u001b[39m\n\u001b[0;32m   5410\u001b[0m                 \u001b[38;5;124m\"\u001b[39m\u001b[38;5;124mlength greater than 0 is deprecated and will raise in a \u001b[39m\u001b[38;5;124m\"\u001b[39m\n\u001b[1;32m   (...)\u001b[0m\n\u001b[0;32m   5413\u001b[0m                 stacklevel\u001b[38;5;241m=\u001b[39mfind_stack_level(),\n\u001b[0;32m   5414\u001b[0m             )\n\u001b[1;32m-> 5416\u001b[0m result \u001b[38;5;241m=\u001b[39m getitem(key)\n\u001b[0;32m   5417\u001b[0m \u001b[38;5;66;03m# Because we ruled out integer above, we always get an arraylike here\u001b[39;00m\n\u001b[0;32m   5418\u001b[0m \u001b[38;5;28;01mif\u001b[39;00m result\u001b[38;5;241m.\u001b[39mndim \u001b[38;5;241m>\u001b[39m \u001b[38;5;241m1\u001b[39m:\n",
      "\u001b[1;31mIndexError\u001b[0m: only integers, slices (`:`), ellipsis (`...`), numpy.newaxis (`None`) and integer or boolean arrays are valid indices"
     ]
    }
   ],
   "source": [
    "result_df = optimize_ARIMA(train, order_list, d)"
   ]
  },
  {
   "cell_type": "code",
   "execution_count": 35,
   "id": "922ba95f-fa6e-40c8-a929-86f87c02ff12",
   "metadata": {},
   "outputs": [
    {
     "ename": "NameError",
     "evalue": "name 'result_df' is not defined",
     "output_type": "error",
     "traceback": [
      "\u001b[1;31m---------------------------------------------------------------------------\u001b[0m",
      "\u001b[1;31mNameError\u001b[0m                                 Traceback (most recent call last)",
      "Cell \u001b[1;32mIn[35], line 1\u001b[0m\n\u001b[1;32m----> 1\u001b[0m result_df\n",
      "\u001b[1;31mNameError\u001b[0m: name 'result_df' is not defined"
     ]
    }
   ],
   "source": [
    "result_df\n",
    "\n",
    "#(p, q) = (3, 3) AIC = 115.266 #lower AIC is better"
   ]
  },
  {
   "cell_type": "code",
   "execution_count": null,
   "id": "7a2f1568-251d-470e-b455-3250c6de20ff",
   "metadata": {},
   "outputs": [],
   "source": [
    "model = SARIMAX(train, order = (3, 2, 3), simple_differencing = False)\n",
    "\n",
    "model_fit = model.fit(disp = False)\n",
    "\n",
    "print(model_fit.summary())\n",
    "\n",
    "#Ljung-Box: swedish"
   ]
  },
  {
   "cell_type": "code",
   "execution_count": null,
   "id": "490aa9bd-5015-41db-b59a-fa539e5b9cd2",
   "metadata": {},
   "outputs": [],
   "source": [
    "model_fit.plot_diagnostics(figsize=(15,10));\n",
    "\n",
    "#residuals around 0 without trends or patterns, shouldn't grow from distance\n",
    "#histogram, green is normal\n",
    "#QQ\n",
    "#correlogram: no correlation in residuals, most in blue box --> good\n"
   ]
  },
  {
   "cell_type": "code",
   "execution_count": null,
   "id": "517f5a65-3f63-48bc-9f1a-b28a6b97f89b",
   "metadata": {},
   "outputs": [],
   "source": [
    "from statsmodels.stats.diagnostic import acorr_ljungbox\n",
    "\n",
    "residuals = model_fit.resid\n",
    "\n",
    "ljb_results = acorr_ljungbox(residuals,np.arange(1,11,1))\n",
    "\n",
    "ljb_results"
   ]
  },
  {
   "cell_type": "code",
   "execution_count": null,
   "id": "01737d11-9566-4ec8-bade-90600592b932",
   "metadata": {},
   "outputs": [],
   "source": [
    "test = df.iloc[-4:]\n",
    "\n",
    "test['naive_seasonal'] = df['data'].iloc[76:80].values\n",
    "\n",
    "test"
   ]
  },
  {
   "cell_type": "code",
   "execution_count": null,
   "id": "c195ef45-b7c5-4fde-95ce-6c89039f35f9",
   "metadata": {},
   "outputs": [],
   "source": [
    "ARIMA_pred = model_fit.get_prediction(80,83).predicted_mean\n",
    "\n",
    "test['ARIMA_pred'] = ARIMA_pred\n",
    "\n",
    "test"
   ]
  },
  {
   "cell_type": "code",
   "execution_count": null,
   "id": "4b570e6e-5271-4b23-aaa3-228c3b3d27ba",
   "metadata": {},
   "outputs": [],
   "source": [
    "fig, ax = plt.subplots(figsize=(15,10))\n",
    "\n",
    "ax.plot(df.data,df['data'])\n",
    "ax.plot(test['data'], 'b-', label='actual')\n",
    "ax.plot(test['naive_seasonal'], 'r:', label='naive seasonal')\n",
    "ax.plot(test['ARIMA_pred'], 'k--', label='ARIMA(3,2,3)')\n",
    "\n",
    "ax.set_xlabel('Date')\n",
    "ax.set_ylabel('Earnings per share (USD)')\n",
    "\n",
    "ax.axvspan(80,83, color=\"gray\", alpha=0.3)\n",
    "\n",
    "ax.legend(loc=2)\n",
    "\n",
    "#quarterly earnings\n",
    "#every 2 years\n",
    "plt.xticks(np.arange(0, 81, 8), [1960, 1962, 1964, 1966, 1968, 1970, 1972, 1974, 1976, 1978, 1980] )\n",
    "\n",
    "fig.autofmt_xdate()\n",
    "plt.tight_layout()"
   ]
  }
 ],
 "metadata": {
  "kernelspec": {
   "display_name": "Python 3 (ipykernel)",
   "language": "python",
   "name": "python3"
  },
  "language_info": {
   "codemirror_mode": {
    "name": "ipython",
    "version": 3
   },
   "file_extension": ".py",
   "mimetype": "text/x-python",
   "name": "python",
   "nbconvert_exporter": "python",
   "pygments_lexer": "ipython3",
   "version": "3.12.3"
  }
 },
 "nbformat": 4,
 "nbformat_minor": 5
}
